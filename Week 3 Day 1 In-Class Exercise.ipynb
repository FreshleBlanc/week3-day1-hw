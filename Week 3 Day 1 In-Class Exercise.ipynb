{
 "cells": [
  {
   "cell_type": "markdown",
   "id": "6027c86b",
   "metadata": {},
   "source": [
    "## In-Class Exercise\n",
    "\n",
    "You are going to create a data entry program for a used vehicle dealership. This dealership deals in 3 different vehicles:\n",
    "- Boats\n",
    "- Cars\n",
    "- Motorcycles\n",
    "\n",
    "You will need at least 5 classes, but you can add more as you see fit. You should have a generic \"Vehicle\" class and a specific class for each type of vehicle. You will also need a class to store your vehicles and handle user input. You can choose attributes and methods as you see fit but you will need the following:\n",
    "\n",
    "- Information about the price of the vehicle.\n",
    "- Information about whether or not the vehicle has been sold. If the vehicle is sold, please note it (maybe a boolean value??) and print out a notification to the console.\n",
    "- Information about the vehicles miles traveled and a method to update these miles.\n",
    "- Come up with at least 2 more attributes and build methods to modify these attributes.\n",
    "- A function to take in user input to create vehicles. Your \"game logic\""
   ]
  },
  {
   "cell_type": "code",
   "execution_count": 12,
   "id": "1267c2c7",
   "metadata": {},
   "outputs": [],
   "source": [
    "class Dealership:\n",
    "    def __init__(self, price=3000, spot='visitor', sold=False):\n",
    "        self.price = price\n",
    "        self.spot = spot\n",
    "        self.sold = sold\n",
    "\n",
    "    def set_price(self):\n",
    "        # changing price of a dealership vehicle\n",
    "        new_price = abs(float(input('\\nWhat is the new price of this vehicle?\\n')))\n",
    "        self.price = new_price\n",
    "        print('The price has been changed to ${price:.2f}.'.format(price=self.price))\n",
    "\n",
    "    def set_sold(self):\n",
    "        # setting status of whether vehicle is sold or not\n",
    "        was_sold = input('\\nWas this vehicle sold to a customer?\\n(Y)es | (N)o\\n').lower()\n",
    "        if was_sold == 'y' or was_sold == 'yes':\n",
    "            self.sold = True\n",
    "            print('This vehicle has now been marked as \"sold\".')\n",
    "        else:\n",
    "            print('No change was made.')\n",
    "\n",
    "    def set_spot(self):\n",
    "        # change spot in the parking lot (moving vehicles around, etc.)\n",
    "        \n",
    "        self.spot = input(\"what spot is the vechile parked in?\").upper()\n",
    "        \n",
    "        pass    \n",
    "\n",
    "    def sell_to_dealer(self):\n",
    "        # customer will input vehicle details and vehicle will be placed in a spot, given a price\n",
    "        \n",
    "        was_purchased = input('\\nAre you trying to sell us your vehicle?\\n(Y)es | (N)o\\n').lower()\n",
    "        if was_purchased == 'y' or was_purchased == 'yes':\n",
    "            \n",
    "            self.make = input('What is your vehicle?')\n",
    "            \n",
    "            self.engine = input('What is your engine?')\n",
    "            \n",
    "            self.color = input('What color is your vehicle?')\n",
    "            \n",
    "            self.model = input('What is the model of your vehicle?')\n",
    "            \n",
    "            self.year = input('What is the year of your vehicle?')\n",
    "            \n",
    "            self.mileage = input('How many miles does your vehicle have?')\n",
    "            \n",
    "            self.set_spot()\n",
    "            \n",
    "            self.set_price()\n",
    "            \n",
    "            \n",
    "        else:\n",
    "            print('No change was made.')\n",
    "        \n",
    "        \n",
    "        pass\n",
    "\n",
    "    \n",
    "\n",
    "\n",
    "class Vehicle:\n",
    "    def __init__(self, engine, color, make, model, year, mileage):\n",
    "        self.engine = engine\n",
    "        self.color = color\n",
    "        self.make = make\n",
    "        self.model = model\n",
    "        self.year = year\n",
    "        self.mileage = mileage\n",
    "\n",
    "    def drive(self):\n",
    "        # take vehicle for a ride and it adds mileage\n",
    "        pass\n",
    "\n",
    "    def paint(self):\n",
    "        # change color of vehicle\n",
    "        pass\n",
    "\n",
    "\n",
    "class Boat(Vehicle):\n",
    "    def __init__(self, engine, color, make, model, year, mileage, gps, fldlights, props=1):\n",
    "        self.gps = gps\n",
    "        self.fldlights = fldlights\n",
    "        self.props = props\n",
    "        super().__init__(engine, color, make, model, year, mileage)\n",
    "\n",
    "class Car(Vehicle):\n",
    "    def __init__(self, engine, color, make, model, year, mileage, doors, convert, airbags, wheels=4, hdlights=2):\n",
    "        self.doors = doors\n",
    "        self.convert = convert\n",
    "        self.airbags = airbags\n",
    "        self.wheels = wheels\n",
    "        self.hdlights = hdlights\n",
    "        super().__init__(engine, color, make, model, year, mileage)\n",
    "\n",
    "class Motorcycle(Vehicle):\n",
    "    def __init__(self, engine, color, make, model, year, mileage, style, wheels=2, hdlights=1):\n",
    "        self.style = style\n",
    "        self.wheels = wheels\n",
    "        self.hdlights = hdlights\n",
    "        super().__init__(engine, color, make, model, year, mileage)"
   ]
  },
  {
   "cell_type": "code",
   "execution_count": 13,
   "id": "7c143e93",
   "metadata": {},
   "outputs": [],
   "source": [
    "my_car = Car('hemi', 'black', 'mustang', 'ford', 1967, 45000, 4, True, True)"
   ]
  },
  {
   "cell_type": "code",
   "execution_count": 14,
   "id": "4766dbf8",
   "metadata": {},
   "outputs": [
    {
     "data": {
      "text/plain": [
       "45000"
      ]
     },
     "execution_count": 14,
     "metadata": {},
     "output_type": "execute_result"
    }
   ],
   "source": [
    "my_car.mileage"
   ]
  },
  {
   "cell_type": "code",
   "execution_count": 15,
   "id": "37399456",
   "metadata": {},
   "outputs": [],
   "source": [
    "my_car = Dealership()"
   ]
  },
  {
   "cell_type": "code",
   "execution_count": 17,
   "id": "d0ddba4e",
   "metadata": {},
   "outputs": [
    {
     "data": {
      "text/plain": [
       "'visitor'"
      ]
     },
     "execution_count": 17,
     "metadata": {},
     "output_type": "execute_result"
    }
   ],
   "source": [
    "my_car.spot"
   ]
  },
  {
   "cell_type": "code",
   "execution_count": 18,
   "id": "03f9d61b",
   "metadata": {},
   "outputs": [
    {
     "name": "stdout",
     "output_type": "stream",
     "text": [
      "\n",
      "Are you trying to sell us your vehicle?\n",
      "(Y)es | (N)o\n",
      "y\n",
      "What is your vehicle?ford\n",
      "What is your engine?hemi\n",
      "What color is your vehicle?white\n",
      "What is the model of your vehicle?\n",
      "What is the year of your vehicle?1968\n",
      "How many miles does your vehicle have?45000\n",
      "what spot is the vechile parked in?3A\n",
      "\n",
      "What is the new price of this vehicle?\n",
      "60000\n",
      "The price has been changed to $60000.00.\n"
     ]
    }
   ],
   "source": [
    "my_car.sell_to_dealer()"
   ]
  },
  {
   "cell_type": "code",
   "execution_count": null,
   "id": "c24ea9f1",
   "metadata": {},
   "outputs": [],
   "source": []
  }
 ],
 "metadata": {
  "kernelspec": {
   "display_name": "Python 3 (ipykernel)",
   "language": "python",
   "name": "python3"
  },
  "language_info": {
   "codemirror_mode": {
    "name": "ipython",
    "version": 3
   },
   "file_extension": ".py",
   "mimetype": "text/x-python",
   "name": "python",
   "nbconvert_exporter": "python",
   "pygments_lexer": "ipython3",
   "version": "3.9.13"
  }
 },
 "nbformat": 4,
 "nbformat_minor": 5
}
