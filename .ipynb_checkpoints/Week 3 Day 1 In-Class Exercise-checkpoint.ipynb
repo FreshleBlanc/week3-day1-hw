{
 "cells": [
  {
   "cell_type": "markdown",
   "id": "6027c86b",
   "metadata": {},
   "source": [
    "## In-Class Exercise\n",
    "\n",
    "You are going to create a data entry program for a used vehicle dealership. This dealership deals in 3 different vehicles:\n",
    "- Boats\n",
    "- Cars\n",
    "- Motorcycles\n",
    "\n",
    "You will need at least 5 classes, but you can add more as you see fit. You should have a generic \"Vehicle\" class and a specific class for each type of vehicle. You will also need a class to store your vehicles and handle user input. You can choose attributes and methods as you see fit but you will need the following:\n",
    "\n",
    "- Information about the price of the vehicle.\n",
    "- Information about whether or not the vehicle has been sold. If the vehicle is sold, please note it (maybe a boolean value??) and print out a notification to the console.\n",
    "- Information about the vehicles miles traveled and a method to update these miles.\n",
    "- Come up with at least 2 more attributes and build methods to modify these attributes.\n",
    "- A function to take in user input to create vehicles. Your \"game logic\""
   ]
  }
 ],
 "metadata": {
  "kernelspec": {
   "display_name": "Python 3 (ipykernel)",
   "language": "python",
   "name": "python3"
  },
  "language_info": {
   "codemirror_mode": {
    "name": "ipython",
    "version": 3
   },
   "file_extension": ".py",
   "mimetype": "text/x-python",
   "name": "python",
   "nbconvert_exporter": "python",
   "pygments_lexer": "ipython3",
   "version": "3.9.13"
  }
 },
 "nbformat": 4,
 "nbformat_minor": 5
}
